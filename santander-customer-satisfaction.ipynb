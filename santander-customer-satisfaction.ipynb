{
 "cells": [
  {
   "cell_type": "code",
   "execution_count": 1,
   "metadata": {},
   "outputs": [
    {
     "name": "stderr",
     "output_type": "stream",
     "text": [
      "d:\\Softwares\\anaconda3\\envs\\projeto-santander\\lib\\site-packages\\xgboost\\compat.py:36: FutureWarning: pandas.Int64Index is deprecated and will be removed from pandas in a future version. Use pandas.Index with the appropriate dtype instead.\n",
      "  from pandas import MultiIndex, Int64Index\n"
     ]
    }
   ],
   "source": [
    "# Importando as bibliotecas\n",
    "import numpy as np\n",
    "import pandas as pd\n",
    "import matplotlib.pyplot as plt\n",
    "import xgboost as xgb\n",
    "from sklearn.model_selection import train_test_split\n",
    "from sklearn.feature_selection import VarianceThreshold\n",
    "from imblearn.over_sampling import RandomOverSampler\n",
    "import warnings\n",
    "warnings.filterwarnings('ignore')"
   ]
  },
  {
   "cell_type": "code",
   "execution_count": 2,
   "metadata": {},
   "outputs": [
    {
     "data": {
      "text/plain": [
       "((76020, 371), (75818, 370))"
      ]
     },
     "execution_count": 2,
     "metadata": {},
     "output_type": "execute_result"
    }
   ],
   "source": [
    "# Carregando os dados\n",
    "treino = pd.read_csv(\"train.csv\")\n",
    "teste = pd.read_csv(\"test.csv\")\n",
    "\n",
    "treino.shape, teste.shape"
   ]
  },
  {
   "cell_type": "code",
   "execution_count": null,
   "metadata": {},
   "outputs": [],
   "source": [
    "# Visualizando os datasets\n",
    "display(treino.head())\n",
    "display(teste.head())"
   ]
  },
  {
   "cell_type": "code",
   "execution_count": 3,
   "metadata": {},
   "outputs": [
    {
     "data": {
      "text/plain": [
       "((76020, 370), (75818, 369))"
      ]
     },
     "execution_count": 3,
     "metadata": {},
     "output_type": "execute_result"
    }
   ],
   "source": [
    "# Removendo os IDs\n",
    "treino.drop(\"ID\", axis=1, inplace=True)\n",
    "id_submit = teste[\"ID\"]\n",
    "teste.drop(\"ID\", axis=1, inplace=True)\n",
    "\n",
    "treino.shape, teste.shape"
   ]
  },
  {
   "cell_type": "code",
   "execution_count": 4,
   "metadata": {},
   "outputs": [],
   "source": [
    "# Dividindo as variáveis independentes da variável dependente/target\n",
    "X = treino.drop(\"TARGET\", axis=1)\n",
    "y = treino[\"TARGET\"]"
   ]
  },
  {
   "cell_type": "code",
   "execution_count": 5,
   "metadata": {},
   "outputs": [
    {
     "data": {
      "text/plain": [
       "((53214, 369), (22806, 369), (53214,), (22806,))"
      ]
     },
     "execution_count": 5,
     "metadata": {},
     "output_type": "execute_result"
    }
   ],
   "source": [
    "# Dividindo os dados em Treino e Validação\n",
    "X_treino, X_valid, y_treino, y_valid = train_test_split(X, y, test_size = 0.30, random_state = 42)\n",
    "X_treino.shape, X_valid.shape, y_treino.shape, y_valid.shape"
   ]
  },
  {
   "cell_type": "code",
   "execution_count": 6,
   "metadata": {},
   "outputs": [
    {
     "name": "stdout",
     "output_type": "stream",
     "text": [
      "46\n",
      "\n",
      "['ind_var2_0', 'ind_var2', 'ind_var18_0', 'ind_var18', 'ind_var27_0', 'ind_var28_0', 'ind_var28', 'ind_var27', 'ind_var41', 'ind_var46_0', 'ind_var46', 'num_var18_0', 'num_var18', 'num_var27_0', 'num_var28_0', 'num_var28', 'num_var27', 'num_var41', 'num_var46_0', 'num_var46', 'saldo_var18', 'saldo_var28', 'saldo_var27', 'saldo_var41', 'saldo_var46', 'delta_imp_amort_var18_1y3', 'delta_imp_reemb_var33_1y3', 'delta_num_reemb_var33_1y3', 'imp_amort_var18_hace3', 'imp_amort_var18_ult1', 'imp_amort_var34_hace3', 'imp_reemb_var13_hace3', 'imp_reemb_var33_hace3', 'imp_reemb_var33_ult1', 'imp_trasp_var17_out_hace3', 'imp_trasp_var33_out_hace3', 'num_var2_0_ult1', 'num_var2_ult1', 'num_reemb_var13_hace3', 'num_reemb_var33_hace3', 'num_reemb_var33_ult1', 'num_trasp_var17_out_hace3', 'num_trasp_var33_out_hace3', 'saldo_var2_ult1', 'saldo_medio_var13_medio_hace3', 'saldo_medio_var29_hace3']\n"
     ]
    },
    {
     "data": {
      "text/plain": [
       "((53214, 323), (22806, 323), (75818, 323))"
      ]
     },
     "execution_count": 6,
     "metadata": {},
     "output_type": "execute_result"
    }
   ],
   "source": [
    "# Identificando as variáveis que não tem variância\n",
    "var_const = VarianceThreshold(threshold=0)\n",
    "var_const.fit(X_treino)\n",
    "\n",
    "# Extraindo o nome\n",
    "cols_const = [ col for col in X_treino.columns if col not in X_treino.columns[var_const.get_support()]]\n",
    "print(len(cols_const))\n",
    "print()\n",
    "print(cols_const)\n",
    "\n",
    "# Removendo\n",
    "X_treino.drop(columns=cols_const, axis=1, inplace=True)\n",
    "X_valid.drop(columns=cols_const, axis=1, inplace=True)\n",
    "teste.drop(columns=cols_const, axis=1, inplace=True)\n",
    "\n",
    "X_treino.shape, X_valid.shape, teste.shape"
   ]
  },
  {
   "cell_type": "code",
   "execution_count": 7,
   "metadata": {},
   "outputs": [
    {
     "name": "stdout",
     "output_type": "stream",
     "text": [
      "26\n",
      "\n",
      "['ind_var13_medio', 'ind_var26', 'ind_var25', 'ind_var29_0', 'ind_var29', 'ind_var32', 'ind_var34', 'ind_var37', 'ind_var39', 'num_var13_medio', 'num_var26', 'num_var25', 'num_var29_0', 'num_var29', 'num_var32', 'num_var34', 'num_var37', 'num_var39', 'saldo_var29', 'delta_num_reemb_var13_1y3', 'delta_num_reemb_var17_1y3', 'delta_num_trasp_var17_in_1y3', 'delta_num_trasp_var17_out_1y3', 'delta_num_trasp_var33_in_1y3', 'delta_num_trasp_var33_out_1y3', 'saldo_medio_var13_medio_ult1']\n"
     ]
    },
    {
     "data": {
      "text/plain": [
       "((53214, 297), (22806, 297), (75818, 297))"
      ]
     },
     "execution_count": 7,
     "metadata": {},
     "output_type": "execute_result"
    }
   ],
   "source": [
    "# Identificando as variáveis duplicadas\n",
    "X_treino_T = X_treino.T\n",
    "\n",
    "# Extraindo o nome\n",
    "print(X_treino_T[X_treino_T.duplicated()].shape[0])\n",
    "print()\n",
    "cols_dupli = list(X_treino_T[X_treino_T.duplicated()].index)\n",
    "print(cols_dupli)\n",
    "\n",
    "# Removendo\n",
    "X_treino.drop(columns=cols_dupli, axis=1, inplace=True)\n",
    "X_valid.drop(columns=cols_dupli, axis=1, inplace=True)\n",
    "teste.drop(columns=cols_dupli, axis=1, inplace=True)\n",
    "\n",
    "X_treino.shape, X_valid.shape, teste.shape"
   ]
  },
  {
   "cell_type": "code",
   "execution_count": 8,
   "metadata": {},
   "outputs": [
    {
     "data": {
      "text/plain": [
       "0    51121\n",
       "1     2093\n",
       "Name: TARGET, dtype: int64"
      ]
     },
     "execution_count": 8,
     "metadata": {},
     "output_type": "execute_result"
    }
   ],
   "source": [
    "# Balanceamento da variável target\n",
    "y_treino.value_counts()"
   ]
  },
  {
   "cell_type": "code",
   "execution_count": 9,
   "metadata": {},
   "outputs": [],
   "source": [
    "# OverSampling\n",
    "sampler = RandomOverSampler(random_state=1)\n",
    "X_treino_sampler, y_treino_sampler = sampler.fit_resample(X_treino, y_treino)"
   ]
  },
  {
   "cell_type": "code",
   "execution_count": 10,
   "metadata": {},
   "outputs": [
    {
     "data": {
      "text/plain": [
       "0    51121\n",
       "1    51121\n",
       "Name: TARGET, dtype: int64"
      ]
     },
     "execution_count": 10,
     "metadata": {},
     "output_type": "execute_result"
    }
   ],
   "source": [
    "y_treino_sampler.value_counts()"
   ]
  },
  {
   "cell_type": "code",
   "execution_count": 11,
   "metadata": {},
   "outputs": [
    {
     "name": "stderr",
     "output_type": "stream",
     "text": [
      "d:\\Softwares\\anaconda3\\envs\\projeto-santander\\lib\\site-packages\\xgboost\\sklearn.py:1224: UserWarning: The use of label encoder in XGBClassifier is deprecated and will be removed in a future release. To remove this warning, do the following: 1) Pass option use_label_encoder=False when constructing XGBClassifier object; and 2) Encode your labels (y) as integers starting with 0, i.e. 0, 1, 2, ..., [num_class - 1].\n",
      "  warnings.warn(label_encoder_deprecation_msg, UserWarning)\n",
      "d:\\Softwares\\anaconda3\\envs\\projeto-santander\\lib\\site-packages\\xgboost\\data.py:262: FutureWarning: pandas.Int64Index is deprecated and will be removed from pandas in a future version. Use pandas.Index with the appropriate dtype instead.\n",
      "  elif isinstance(data.columns, (pd.Int64Index, pd.RangeIndex)):\n"
     ]
    },
    {
     "name": "stdout",
     "output_type": "stream",
     "text": [
      "[0]\tvalidation_0-auc:0.79342\n",
      "[1]\tvalidation_0-auc:0.80037\n",
      "[2]\tvalidation_0-auc:0.80401\n",
      "[3]\tvalidation_0-auc:0.80518\n",
      "[4]\tvalidation_0-auc:0.80368\n",
      "[5]\tvalidation_0-auc:0.80521\n",
      "[6]\tvalidation_0-auc:0.80664\n",
      "[7]\tvalidation_0-auc:0.80812\n",
      "[8]\tvalidation_0-auc:0.80940\n",
      "[9]\tvalidation_0-auc:0.81008\n",
      "[10]\tvalidation_0-auc:0.81112\n",
      "[11]\tvalidation_0-auc:0.81236\n",
      "[12]\tvalidation_0-auc:0.81293\n",
      "[13]\tvalidation_0-auc:0.81353\n",
      "[14]\tvalidation_0-auc:0.81442\n",
      "[15]\tvalidation_0-auc:0.81445\n",
      "[16]\tvalidation_0-auc:0.81460\n",
      "[17]\tvalidation_0-auc:0.81476\n",
      "[18]\tvalidation_0-auc:0.81539\n",
      "[19]\tvalidation_0-auc:0.81657\n",
      "[20]\tvalidation_0-auc:0.81759\n",
      "[21]\tvalidation_0-auc:0.81767\n",
      "[22]\tvalidation_0-auc:0.81779\n",
      "[23]\tvalidation_0-auc:0.81761\n",
      "[24]\tvalidation_0-auc:0.81834\n",
      "[25]\tvalidation_0-auc:0.81835\n",
      "[26]\tvalidation_0-auc:0.81880\n",
      "[27]\tvalidation_0-auc:0.81871\n",
      "[28]\tvalidation_0-auc:0.81903\n",
      "[29]\tvalidation_0-auc:0.82010\n",
      "[30]\tvalidation_0-auc:0.82028\n",
      "[31]\tvalidation_0-auc:0.82019\n",
      "[32]\tvalidation_0-auc:0.82022\n",
      "[33]\tvalidation_0-auc:0.82048\n",
      "[34]\tvalidation_0-auc:0.82112\n",
      "[35]\tvalidation_0-auc:0.82121\n",
      "[36]\tvalidation_0-auc:0.82164\n",
      "[37]\tvalidation_0-auc:0.82193\n",
      "[38]\tvalidation_0-auc:0.82198\n",
      "[39]\tvalidation_0-auc:0.82205\n",
      "[40]\tvalidation_0-auc:0.82224\n",
      "[41]\tvalidation_0-auc:0.82266\n",
      "[42]\tvalidation_0-auc:0.82259\n",
      "[43]\tvalidation_0-auc:0.82276\n",
      "[44]\tvalidation_0-auc:0.82295\n",
      "[45]\tvalidation_0-auc:0.82313\n",
      "[46]\tvalidation_0-auc:0.82321\n",
      "[47]\tvalidation_0-auc:0.82343\n",
      "[48]\tvalidation_0-auc:0.82364\n",
      "[49]\tvalidation_0-auc:0.82356\n",
      "[50]\tvalidation_0-auc:0.82356\n",
      "[51]\tvalidation_0-auc:0.82356\n",
      "[52]\tvalidation_0-auc:0.82376\n",
      "[53]\tvalidation_0-auc:0.82378\n",
      "[54]\tvalidation_0-auc:0.82402\n",
      "[55]\tvalidation_0-auc:0.82422\n",
      "[56]\tvalidation_0-auc:0.82441\n",
      "[57]\tvalidation_0-auc:0.82445\n",
      "[58]\tvalidation_0-auc:0.82456\n",
      "[59]\tvalidation_0-auc:0.82460\n",
      "[60]\tvalidation_0-auc:0.82483\n",
      "[61]\tvalidation_0-auc:0.82484\n",
      "[62]\tvalidation_0-auc:0.82499\n",
      "[63]\tvalidation_0-auc:0.82496\n",
      "[64]\tvalidation_0-auc:0.82513\n",
      "[65]\tvalidation_0-auc:0.82514\n",
      "[66]\tvalidation_0-auc:0.82514\n",
      "[67]\tvalidation_0-auc:0.82526\n",
      "[68]\tvalidation_0-auc:0.82533\n",
      "[69]\tvalidation_0-auc:0.82526\n",
      "[70]\tvalidation_0-auc:0.82548\n",
      "[71]\tvalidation_0-auc:0.82548\n",
      "[72]\tvalidation_0-auc:0.82558\n",
      "[73]\tvalidation_0-auc:0.82557\n",
      "[74]\tvalidation_0-auc:0.82554\n",
      "[75]\tvalidation_0-auc:0.82580\n",
      "[76]\tvalidation_0-auc:0.82585\n",
      "[77]\tvalidation_0-auc:0.82600\n",
      "[78]\tvalidation_0-auc:0.82621\n",
      "[79]\tvalidation_0-auc:0.82623\n",
      "[80]\tvalidation_0-auc:0.82633\n",
      "[81]\tvalidation_0-auc:0.82643\n",
      "[82]\tvalidation_0-auc:0.82644\n",
      "[83]\tvalidation_0-auc:0.82650\n",
      "[84]\tvalidation_0-auc:0.82666\n",
      "[85]\tvalidation_0-auc:0.82666\n",
      "[86]\tvalidation_0-auc:0.82683\n",
      "[87]\tvalidation_0-auc:0.82681\n",
      "[88]\tvalidation_0-auc:0.82684\n",
      "[89]\tvalidation_0-auc:0.82684\n",
      "[90]\tvalidation_0-auc:0.82702\n",
      "[91]\tvalidation_0-auc:0.82710\n",
      "[92]\tvalidation_0-auc:0.82706\n",
      "[93]\tvalidation_0-auc:0.82710\n",
      "[94]\tvalidation_0-auc:0.82728\n",
      "[95]\tvalidation_0-auc:0.82718\n",
      "[96]\tvalidation_0-auc:0.82715\n",
      "[97]\tvalidation_0-auc:0.82711\n",
      "[98]\tvalidation_0-auc:0.82715\n",
      "[99]\tvalidation_0-auc:0.82718\n",
      "[100]\tvalidation_0-auc:0.82712\n",
      "[101]\tvalidation_0-auc:0.82717\n",
      "[102]\tvalidation_0-auc:0.82717\n",
      "[103]\tvalidation_0-auc:0.82718\n"
     ]
    },
    {
     "data": {
      "text/html": [
       "<style>#sk-container-id-1 {color: black;background-color: white;}#sk-container-id-1 pre{padding: 0;}#sk-container-id-1 div.sk-toggleable {background-color: white;}#sk-container-id-1 label.sk-toggleable__label {cursor: pointer;display: block;width: 100%;margin-bottom: 0;padding: 0.3em;box-sizing: border-box;text-align: center;}#sk-container-id-1 label.sk-toggleable__label-arrow:before {content: \"▸\";float: left;margin-right: 0.25em;color: #696969;}#sk-container-id-1 label.sk-toggleable__label-arrow:hover:before {color: black;}#sk-container-id-1 div.sk-estimator:hover label.sk-toggleable__label-arrow:before {color: black;}#sk-container-id-1 div.sk-toggleable__content {max-height: 0;max-width: 0;overflow: hidden;text-align: left;background-color: #f0f8ff;}#sk-container-id-1 div.sk-toggleable__content pre {margin: 0.2em;color: black;border-radius: 0.25em;background-color: #f0f8ff;}#sk-container-id-1 input.sk-toggleable__control:checked~div.sk-toggleable__content {max-height: 200px;max-width: 100%;overflow: auto;}#sk-container-id-1 input.sk-toggleable__control:checked~label.sk-toggleable__label-arrow:before {content: \"▾\";}#sk-container-id-1 div.sk-estimator input.sk-toggleable__control:checked~label.sk-toggleable__label {background-color: #d4ebff;}#sk-container-id-1 div.sk-label input.sk-toggleable__control:checked~label.sk-toggleable__label {background-color: #d4ebff;}#sk-container-id-1 input.sk-hidden--visually {border: 0;clip: rect(1px 1px 1px 1px);clip: rect(1px, 1px, 1px, 1px);height: 1px;margin: -1px;overflow: hidden;padding: 0;position: absolute;width: 1px;}#sk-container-id-1 div.sk-estimator {font-family: monospace;background-color: #f0f8ff;border: 1px dotted black;border-radius: 0.25em;box-sizing: border-box;margin-bottom: 0.5em;}#sk-container-id-1 div.sk-estimator:hover {background-color: #d4ebff;}#sk-container-id-1 div.sk-parallel-item::after {content: \"\";width: 100%;border-bottom: 1px solid gray;flex-grow: 1;}#sk-container-id-1 div.sk-label:hover label.sk-toggleable__label {background-color: #d4ebff;}#sk-container-id-1 div.sk-serial::before {content: \"\";position: absolute;border-left: 1px solid gray;box-sizing: border-box;top: 0;bottom: 0;left: 50%;z-index: 0;}#sk-container-id-1 div.sk-serial {display: flex;flex-direction: column;align-items: center;background-color: white;padding-right: 0.2em;padding-left: 0.2em;position: relative;}#sk-container-id-1 div.sk-item {position: relative;z-index: 1;}#sk-container-id-1 div.sk-parallel {display: flex;align-items: stretch;justify-content: center;background-color: white;position: relative;}#sk-container-id-1 div.sk-item::before, #sk-container-id-1 div.sk-parallel-item::before {content: \"\";position: absolute;border-left: 1px solid gray;box-sizing: border-box;top: 0;bottom: 0;left: 50%;z-index: -1;}#sk-container-id-1 div.sk-parallel-item {display: flex;flex-direction: column;z-index: 1;position: relative;background-color: white;}#sk-container-id-1 div.sk-parallel-item:first-child::after {align-self: flex-end;width: 50%;}#sk-container-id-1 div.sk-parallel-item:last-child::after {align-self: flex-start;width: 50%;}#sk-container-id-1 div.sk-parallel-item:only-child::after {width: 0;}#sk-container-id-1 div.sk-dashed-wrapped {border: 1px dashed gray;margin: 0 0.4em 0.5em 0.4em;box-sizing: border-box;padding-bottom: 0.4em;background-color: white;}#sk-container-id-1 div.sk-label label {font-family: monospace;font-weight: bold;display: inline-block;line-height: 1.2em;}#sk-container-id-1 div.sk-label-container {text-align: center;}#sk-container-id-1 div.sk-container {/* jupyter's `normalize.less` sets `[hidden] { display: none; }` but bootstrap.min.css set `[hidden] { display: none !important; }` so we also need the `!important` here to be able to override the default hidden behavior on the sphinx rendered scikit-learn.org. See: https://github.com/scikit-learn/scikit-learn/issues/21755 */display: inline-block !important;position: relative;}#sk-container-id-1 div.sk-text-repr-fallback {display: none;}</style><div id=\"sk-container-id-1\" class=\"sk-top-container\"><div class=\"sk-text-repr-fallback\"><pre>XGBClassifier(base_score=0.5, booster=&#x27;gbtree&#x27;, colsample_bylevel=1,\n",
       "              colsample_bynode=1, colsample_bytree=1, enable_categorical=False,\n",
       "              gamma=0, gpu_id=-1, importance_type=None,\n",
       "              interaction_constraints=&#x27;&#x27;, learning_rate=0.05, max_delta_step=0,\n",
       "              max_depth=3, min_child_weight=1, missing=nan,\n",
       "              monotone_constraints=&#x27;()&#x27;, n_estimators=300, n_jobs=8,\n",
       "              num_parallel_tree=1, predictor=&#x27;auto&#x27;, random_state=0,\n",
       "              reg_alpha=0, reg_lambda=1, scale_pos_weight=1, subsample=1,\n",
       "              tree_method=&#x27;exact&#x27;, validate_parameters=1, verbosity=None)</pre><b>In a Jupyter environment, please rerun this cell to show the HTML representation or trust the notebook. <br />On GitHub, the HTML representation is unable to render, please try loading this page with nbviewer.org.</b></div><div class=\"sk-container\" hidden><div class=\"sk-item\"><div class=\"sk-estimator sk-toggleable\"><input class=\"sk-toggleable__control sk-hidden--visually\" id=\"sk-estimator-id-1\" type=\"checkbox\" checked><label for=\"sk-estimator-id-1\" class=\"sk-toggleable__label sk-toggleable__label-arrow\">XGBClassifier</label><div class=\"sk-toggleable__content\"><pre>XGBClassifier(base_score=0.5, booster=&#x27;gbtree&#x27;, colsample_bylevel=1,\n",
       "              colsample_bynode=1, colsample_bytree=1, enable_categorical=False,\n",
       "              gamma=0, gpu_id=-1, importance_type=None,\n",
       "              interaction_constraints=&#x27;&#x27;, learning_rate=0.05, max_delta_step=0,\n",
       "              max_depth=3, min_child_weight=1, missing=nan,\n",
       "              monotone_constraints=&#x27;()&#x27;, n_estimators=300, n_jobs=8,\n",
       "              num_parallel_tree=1, predictor=&#x27;auto&#x27;, random_state=0,\n",
       "              reg_alpha=0, reg_lambda=1, scale_pos_weight=1, subsample=1,\n",
       "              tree_method=&#x27;exact&#x27;, validate_parameters=1, verbosity=None)</pre></div></div></div></div></div>"
      ],
      "text/plain": [
       "XGBClassifier(base_score=0.5, booster='gbtree', colsample_bylevel=1,\n",
       "              colsample_bynode=1, colsample_bytree=1, enable_categorical=False,\n",
       "              gamma=0, gpu_id=-1, importance_type=None,\n",
       "              interaction_constraints='', learning_rate=0.05, max_delta_step=0,\n",
       "              max_depth=3, min_child_weight=1, missing=nan,\n",
       "              monotone_constraints='()', n_estimators=300, n_jobs=8,\n",
       "              num_parallel_tree=1, predictor='auto', random_state=0,\n",
       "              reg_alpha=0, reg_lambda=1, scale_pos_weight=1, subsample=1,\n",
       "              tree_method='exact', validate_parameters=1, verbosity=None)"
      ]
     },
     "execution_count": 11,
     "metadata": {},
     "output_type": "execute_result"
    }
   ],
   "source": [
    "# Construção do modelo para avaliação\n",
    "clf = xgb.XGBClassifier(max_depth=3, n_estimators=300, learning_rate=0.05, objective=\"binary:logistic\")\n",
    "clf.fit(X_treino_sampler, y_treino_sampler, early_stopping_rounds=10, eval_metric=\"auc\",\n",
    "        eval_set=[(X_valid, y_valid)])"
   ]
  },
  {
   "cell_type": "code",
   "execution_count": 12,
   "metadata": {},
   "outputs": [],
   "source": [
    "# Data Matrix used in XGBoost.\n",
    "# DMatrix is an internal data structure that is used by XGBoost, which is optimized for both memory efficiency and training speed. \n",
    "# You can construct DMatrix from multiple different sources of data.\n",
    "\n",
    "params = {\"objective\": \"binary:logistic\", \"booster\": \"gbtree\", \"eval_metric\":\"auc\"}\n",
    "\n",
    "treino_xgb = xgb.DMatrix(X_treino_sampler, y_treino_sampler)\n",
    "teste_xgb  = xgb.DMatrix(teste)\n",
    "\n",
    "gbm = xgb.train(params, treino_xgb, 20)\n",
    "y_pred = gbm.predict(teste_xgb)"
   ]
  },
  {
   "cell_type": "code",
   "execution_count": 13,
   "metadata": {},
   "outputs": [
    {
     "data": {
      "text/html": [
       "<div>\n",
       "<style scoped>\n",
       "    .dataframe tbody tr th:only-of-type {\n",
       "        vertical-align: middle;\n",
       "    }\n",
       "\n",
       "    .dataframe tbody tr th {\n",
       "        vertical-align: top;\n",
       "    }\n",
       "\n",
       "    .dataframe thead th {\n",
       "        text-align: right;\n",
       "    }\n",
       "</style>\n",
       "<table border=\"1\" class=\"dataframe\">\n",
       "  <thead>\n",
       "    <tr style=\"text-align: right;\">\n",
       "      <th></th>\n",
       "      <th>id</th>\n",
       "      <th>target</th>\n",
       "    </tr>\n",
       "  </thead>\n",
       "  <tbody>\n",
       "    <tr>\n",
       "      <th>0</th>\n",
       "      <td>2</td>\n",
       "      <td>0.445065</td>\n",
       "    </tr>\n",
       "    <tr>\n",
       "      <th>1</th>\n",
       "      <td>5</td>\n",
       "      <td>0.488602</td>\n",
       "    </tr>\n",
       "    <tr>\n",
       "      <th>2</th>\n",
       "      <td>6</td>\n",
       "      <td>0.014676</td>\n",
       "    </tr>\n",
       "    <tr>\n",
       "      <th>3</th>\n",
       "      <td>7</td>\n",
       "      <td>0.141842</td>\n",
       "    </tr>\n",
       "    <tr>\n",
       "      <th>4</th>\n",
       "      <td>9</td>\n",
       "      <td>0.022934</td>\n",
       "    </tr>\n",
       "  </tbody>\n",
       "</table>\n",
       "</div>"
      ],
      "text/plain": [
       "   id    target\n",
       "0   2  0.445065\n",
       "1   5  0.488602\n",
       "2   6  0.014676\n",
       "3   7  0.141842\n",
       "4   9  0.022934"
      ]
     },
     "execution_count": 13,
     "metadata": {},
     "output_type": "execute_result"
    }
   ],
   "source": [
    "submit = pd.DataFrame({\"id\": id_submit, \"target\": y_pred})\n",
    "submit.head()"
   ]
  },
  {
   "cell_type": "code",
   "execution_count": 14,
   "metadata": {},
   "outputs": [],
   "source": [
    "submit.to_csv('submission.csv',index=False)"
   ]
  }
 ],
 "metadata": {
  "kernelspec": {
   "display_name": "Python 3.10.4 ('projeto-santander')",
   "language": "python",
   "name": "python3"
  },
  "language_info": {
   "codemirror_mode": {
    "name": "ipython",
    "version": 3
   },
   "file_extension": ".py",
   "mimetype": "text/x-python",
   "name": "python",
   "nbconvert_exporter": "python",
   "pygments_lexer": "ipython3",
   "version": "3.10.4"
  },
  "orig_nbformat": 4,
  "vscode": {
   "interpreter": {
    "hash": "dac9a992b1ef6f133ebea7a3bc9d0fb006d5ef59901f9bd2219b33a36c3fbd1d"
   }
  }
 },
 "nbformat": 4,
 "nbformat_minor": 2
}
